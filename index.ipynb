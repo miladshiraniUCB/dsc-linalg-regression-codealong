{
 "cells": [
  {
   "cell_type": "markdown",
   "metadata": {},
   "source": [
    "# Regression Analysis using Linear Algebra and NumPy - Code Along \n",
    "\n",
    "## Introduction\n",
    "\n",
    "In the previous sections, you learned that in statistical modeling, regression analysis is a set of statistical processes for estimating the relationships between data entities (variables). Linear regression is an important predictive analytical tool in the data scientist's toolbox. Here, you'll try and develop a basic intuition for regression from a linear algebra perspective using vectors and matrix operations. This lesson covers least-squares regression with matrix algebra without digging deep into the geometric dimensions. \n",
    "\n",
    "[You can find a deeper mathematical and geometric explanation of the topic here](http://math.mit.edu/~gs/linearalgebra/ila0403.pdf). In this lesson, we'll try to keep things more data-oriented.\n",
    "\n",
    "## Objectives\n",
    "\n",
    "You will be able to: \n",
    "\n",
    "- Apply linear algebra to fit a function to data, describing linear mappings between input and output variables\n",
    "- Indicate how linear algebra is related to regression modeling\n",
    "\n",
    "\n",
    "## Regression analysis\n",
    "\n",
    "By now, you know that the purpose of the regression process is to fit a mathematical model to a set of observed points, in order to later use that model for predicting new values e.g. predicting sales, based on historical sales figures, predicting house prices based on different features of the house, etc. \n",
    "\n",
    "Let's use a very simple toy example to understand how this works with linear algebra. Say you are collecting data on total number of sales per day for some business. Imagine you've got three data points in the format: \n",
    "\n",
    "(day, total number of sales(in hundreds)) \n",
    "\n",
    "> (1, 1) , (2, 2) , (3, 2)\n",
    "\n",
    "If we plot these points on a scatter plot with day (x-axis) vs. sales figures (y-axis), this is what we get:\n",
    "\n",
    "```python\n",
    "import matplotlib.pyplot as plt\n",
    "import numpy as np\n",
    "\n",
    "x = np.array([1,2,3])\n",
    "y = np.array([1,2,2])\n",
    "               \n",
    "plt.plot(x, y, 'o')\n",
    "plt.xticks(x)\n",
    "\n",
    "plt.show()\n",
    "```"
   ]
  },
  {
   "cell_type": "code",
   "execution_count": 2,
   "metadata": {},
   "outputs": [
    {
     "data": {
      "image/png": "[encoded data removed]",
      "text/plain": [
       "<Figure size 432x288 with 1 Axes>"
      ]
     },
     "metadata": {
      "needs_background": "light"
     },
     "output_type": "display_data"
    }
   ],
   "source": [
    "# Code here \n",
    "import seaborn as sns\n",
    "import matplotlib.pyplot as plt\n",
    "import numpy as np\n",
    "\n",
    "x = np.array([1, 2, 3])\n",
    "y = np.array([1, 2, 2])\n",
    "\n",
    "plt.plot(x, y, \"o\");\n",
    "plt.show()\n"
   ]
  },
  {
   "cell_type": "markdown",
   "metadata": {},
   "source": [
    "## Fitting a model to data - A quick refresher\n",
    "\n",
    "The purpose of linear regression would be to fit a mathematical model (a straight line) in the parameter space  that best describes the relationship between day and sales. Simple linear regression attempts to fit a line (in a 2-dimensional space) to describe the relationship between two variables as shown in the example below:\n",
    "\n",
    "<img src =\"images/new_regr_line.png\" width=\"500\">\n",
    "\n",
    "\n",
    "Following this, if you were to identify a relationship between the day and total number of sales, the goal would be to seek a function that describes this line and allows us to linearly map input data points (day) or **independent variable** to outcome values (sales) or **dependent variable**.  If you do this, you first assume that there is an underlying relationship that maps “days” uniquely to “number of sales”, that can be written in the function form as an equation of the straight line i.e. \n",
    "\n",
    "\n",
    "$$y = mx+c$$\n",
    "\n",
    "\n",
    "where $c$ is the intercept of the line and $m$ denotes the slope, as shown below: \n",
    "\n",
    "<img src=\"images/new_regression.png\" width =\"400\">\n",
    "\n",
    "\n",
    "\n",
    "We can write the fitting function based on the above as sales being a **function** of days.\n",
    "\n",
    "$$ \\text{sales} = f(\\text{days})$$\n",
    "\n",
    "\n",
    "or, from $y= mx+c$\n",
    "\n",
    "$$\\text{sales} = \\text{days}*x + \\text{intercept} $$\n",
    ">(where **y** is the number of sales per day and **x** represents the day. **c** (intercept) and **m** (slope) are the regression coefficients we are looking for hoping that these co-efficients will linearly map **day** to the **number of sales**). \n",
    "\n",
    "So using this, we can show our three data points ((1, 1) , (2, 2) , (3, 2)) as:\n",
    "\n",
    "> $c + m*1 = 1$\n",
    "\n",
    "> $c + m*2 = 2$\n",
    "\n",
    "> $c + m*3 = 2$\n",
    "\n",
    "\n",
    "We can see that our data points do not lie on a line. The first two points make a perfect linear system. When $x = 1$, $y = 1$; and when $x = 2$, $y = 2$ i.e. we can draw a straight line passing through these points. When x = 3, b = 2, you know the three points do not lie on the same line as first two points, and our model will be an **approximation** i.e. \n",
    "> there will be some error between the straight line and the REAL relationship between these parameters. \n",
    "\n",
    "This behavior can be simulated by using NumPy's `polyfit()` function (similar to `statsmodels.ols`) to draw a regression line to the data points as shown below. [Here is the documentation for np.polyfit()](https://docs.scipy.org/doc/numpy-1.15.0/reference/generated/numpy.polyfit.html). \n",
    "\n",
    "```python\n",
    "from numpy.polynomial.polynomial import polyfit\n",
    "\n",
    "# Fit with polyfit function to get c(intercept) and m(slope)\n",
    "# the degree parameter = 1 to models this as a straight line\n",
    "c, m = polyfit(x, y, 1)\n",
    "\n",
    "# Plot the data points and line calculated from ployfit\n",
    "plt.plot(x, y, 'o')\n",
    "plt.plot(x, c + (m * x), '-')\n",
    "plt.xticks(x)\n",
    "\n",
    "plt.show()\n",
    "print(c, m)\n",
    "```"
   ]
  },
  {
   "cell_type": "code",
   "execution_count": 9,
   "metadata": {},
   "outputs": [
    {
     "name": "stdout",
     "output_type": "stream",
     "text": [
      "0.6666666666666664\n",
      "0.5000000000000002\n"
     ]
    }
   ],
   "source": [
    "# Code here \n",
    "from numpy.polynomial.polynomial import polyfit\n",
    "c, m = polyfit(x, y, 1)\n",
    "print(c)\n",
    "print(m)"
   ]
  },
  {
   "cell_type": "code",
   "execution_count": 10,
   "metadata": {},
   "outputs": [
    {
     "data": {
      "text/plain": [
       "array([0.66666667, 0.5       ])"
      ]
     },
     "execution_count": 10,
     "metadata": {},
     "output_type": "execute_result"
    }
   ],
   "source": [
    "import statsmodels.api as sm\n",
    "\n",
    "X = sm.add_constant(x)\n",
    "model = sm.OLS(y,X)\n",
    "results = model.fit()\n",
    "results.params"
   ]
  },
  {
   "cell_type": "code",
   "execution_count": 16,
   "metadata": {},
   "outputs": [
    {
     "name": "stdout",
     "output_type": "stream",
     "text": [
      "0.6666666666666672\n",
      "[0.5]\n"
     ]
    }
   ],
   "source": [
    "from sklearn.linear_model import LinearRegression\n",
    "lr = LinearRegression()\n",
    "lr.fit(x.reshape(-1, 1), y)\n",
    "print(lr.intercept_)\n",
    "print(lr.coef_)\n"
   ]
  },
  {
   "cell_type": "code",
   "execution_count": 17,
   "metadata": {},
   "outputs": [
    {
     "data": {
      "image/png": "[encoded data removed]",
      "text/plain": [
       "<Figure size 432x288 with 1 Axes>"
      ]
     },
     "metadata": {
      "needs_background": "light"
     },
     "output_type": "display_data"
    },
    {
     "name": "stdout",
     "output_type": "stream",
     "text": [
      "0.6666666666666664 0.5000000000000002\n"
     ]
    }
   ],
   "source": [
    "plt.plot(x, y, 'o')\n",
    "plt.plot(x, c + (m * x), '-')\n",
    "plt.xticks(x)\n",
    "\n",
    "plt.show()\n",
    "print(c, m)"
   ]
  },
  {
   "cell_type": "markdown",
   "metadata": {},
   "source": [
    "The numbers obtained here reflect the slope (0.5) and intercept values (0.66). \n",
    "\n",
    "The line drawn above using this built-in regression model clearly doesn't touch all the data points. As a result, this is an **approximation** of the function you're trying to find. Now let's see how to achieve the same functionality with matrix algebra instead of the `polyfit()` function. \n",
    "\n",
    "## Create matrices and vectors\n",
    "\n",
    "A linear system like the one above can be solved using linear algebra! You only need to deal with a few vectors and matrices to set this up.\n",
    "\n",
    "Recalling linear systems from the previous lessons, you have:\n",
    "\n",
    "\n",
    "$$\n",
    "    \\left[ {\\begin{array}{cc}\n",
    "   1 & 1 \\\\\n",
    "   1 & 2 \\\\\n",
    "   1 & 3 \\\\\n",
    "  \\end{array} } \\right]\n",
    "   \\left[ {\\begin{array}{c}\n",
    "   c \\\\\n",
    "   m \\\\\n",
    "  \\end{array} } \\right] =\n",
    "    \\left[ {\\begin{array}{c}\n",
    "    1 \\\\\n",
    "    2 \\\\\n",
    "    2 \\\\\n",
    "  \\end{array} } \\right] \n",
    "$$\n"
   ]
  },
  {
   "cell_type": "markdown",
   "metadata": {},
   "source": [
    "## The intercept and error terms\n",
    "\n",
    "The column of ones in the first matrix refers to the intercept ($c$) from $mx+c$. If you don't include this constant, then the function is constrained to the origin (0,0), which would strongly limit the types of relationships the model could describe. You want to include an intercept to allow for linear models to intersect with the $y$-axis at values different from 0 (in the image shown earlier, $c$ was 2, because the straight line crossed the $y$-axis at $y$=2).\n",
    "\n",
    "In above , we are hoping that there is some linear combination of the columns of the first matrix that gives us our vector of observed values (the vector with values 1,2,2).\n",
    "\n",
    "Unfortunately, we already know that this vector does not fit our model perfectly. That means it is outside the column space of A and we can't solve that equation for the vector $x$ directly. Every line we draw will have some value of **error** $e$ associated with it. \n",
    "\n",
    "**The goal is to choose the vector $x$ for unknown variables to make $e$ as small as possible**. \n",
    "\n",
    "## Ordinary least squares \n",
    "\n",
    "A common measure to find and minimize the value of this error is called *Ordinary Least Squares*. \n",
    "\n",
    "This says that our dependent variable, is composed of a linear part and error. The linear part is composed of an intercept and independent variable(s), along with their associated raw score regression weights.\n",
    "\n",
    "In matrix terms, the same equation can be written as:\n",
    "\n",
    "$ y = \\boldsymbol{X} b + e $\n",
    "\n",
    "This says to get y (sales), multiply each $\\boldsymbol{X}$ by the appropriate vector b (unknown parameters, the vector version of $m$ and $c$), then add an error term. We create a matrix $\\boldsymbol{X}$ , which has an extra column of **1**s in it for the intercept. For each day, the **1** is used to add the intercept in the first row of the column vector $b$.\n",
    "\n",
    "Let's assume that the error is equal to zero on average and drop it to sketch a proof:\n",
    "\n",
    "$ y = \\boldsymbol{X} b$\n",
    "\n",
    "\n",
    "Now let's solve for $b$, so we need to get rid of $\\boldsymbol{X}$. First we will make X into a nice square, symmetric matrix by multiplying both sides of the equation by $\\boldsymbol{X}^T$ :\n",
    "\n",
    "$\\boldsymbol{X}^T y = \\boldsymbol{X}^T \\boldsymbol{X}b $\n",
    "\n",
    "And now we have a square matrix that with any luck has an inverse, which we will call $(\\boldsymbol{X}^T\\boldsymbol{X})^{-1}$. Multiply both sides by this inverse, and we have\n",
    "\n",
    "$(\\boldsymbol{X}^T\\boldsymbol{X})^{-1}\\boldsymbol{X}^T y =(\\boldsymbol{X}^T\\boldsymbol{X})^{-1} \\boldsymbol{X}^T \\boldsymbol{X}b $\n",
    "\n",
    "\n",
    "It turns out that a matrix multiplied by its inverse is the identity matrix $(\\boldsymbol{X}^{-1}\\boldsymbol{X})= I$:\n",
    "\n",
    "$(\\boldsymbol{X}^T\\boldsymbol{X})^{-1}\\boldsymbol{X}^T y =I b $\n",
    "\n",
    "\n",
    "And you know that $Ib= b$ So if you want to solve for $b$ (that is, remember, equivalent to finding the values $m$ and $c$ in this case), you find that:\n",
    "\n",
    "$ b= (\\boldsymbol{X}^T\\boldsymbol{X})^{-1}\\boldsymbol{X}^T y $\n",
    "\n",
    "Here, we'll focus on the matrix and vector algebra perspective. With least squares regression, in order to solve for the expected value of weights, referred to as $\\hat{X}$ (\"$X$-hat\"), you need to solve the above equation. \n",
    "\n",
    "Remember all above variables represent vectors. The elements of the vector X-hat are the estimated regression coefficients $c$ and $m$ that you're looking for. They minimize the error between the model and the observed data in an elegant way that uses no calculus or complicated algebraic sums.\n",
    "\n",
    "The above description can be summarized as:\n",
    "\n",
    "**Using linear regression is just trying to solve $Xb = y$. But if any of the observed points deviate from the model, you can't find a direct solution. To find a solution, you can multiply both sides by the transpose of $X$. The transpose of $X$ times $X$ will always allow us to solve for unknown variables.**\n",
    "\n",
    "## Calculate an OLS regression line\n",
    "\n",
    "Let's use the above formula to calculate a solution for our toy problem: \n",
    "```python\n",
    "# Calculate the solution\n",
    "\n",
    "X = np.array([[1, 1],[1, 2],[1, 3]])\n",
    "y = np.array([1, 2, 2])\n",
    "Xt = X.T\n",
    "XtX = Xt.dot(X)\n",
    "XtX_inv = np.linalg.inv(XtX)\n",
    "Xty = Xt.dot(y)\n",
    "x_hat = XtX_inv.dot(Xty) # the value for b shown above\n",
    "x_hat\n",
    "```"
   ]
  },
  {
   "cell_type": "code",
   "execution_count": 25,
   "metadata": {},
   "outputs": [],
   "source": [
    "# Code here \n",
    "X = np.array([[1, 1],[1, 2],[1, 3]])\n",
    "y = np.array([1, 2, 2])\n",
    "\n",
    "XX = np.dot(X.T, X)\n",
    "XX_inv = np.linalg.inv(XX)\n",
    "x_hat = XX_inv.dot(X.T.dot(y))\n",
    "prx_hat\n",
    "\n",
    "x_hat_m = np.linalg.solve(XX, X.T.dot(y))\n",
    "print(x_hat_m)"
   ]
  },
  {
   "cell_type": "markdown",
   "metadata": {},
   "source": [
    "The solution gives an intercept of 0.6 and slope value 0.5. Let's see what you get if you draw a line with these values with given data: \n",
    "\n",
    "```python\n",
    "# Define data points\n",
    "x = np.array([1, 2, 3])\n",
    "y = np.array([1, 2, 2])\n",
    "\n",
    "# Plot the data points and line parameters calculated above\n",
    "plt.plot(x, y, 'o')\n",
    "plt.plot(x, x_hat[0] + (x_hat[1] * x), '-')\n",
    "plt.xticks(x)\n",
    "\n",
    "plt.show()\n",
    "```"
   ]
  },
  {
   "cell_type": "code",
   "execution_count": 18,
   "metadata": {},
   "outputs": [],
   "source": [
    "# Code here "
   ]
  },
  {
   "cell_type": "markdown",
   "metadata": {},
   "source": [
    "There you have it, an approximated line function! Just like the one you saw with `polyfit()`, by using simple matrix algebra. \n",
    "\n",
    "## Regression with multiple variables\n",
    "\n",
    "Above, you saw how you can draw a line on a 2D space using simple regression. If you perform a similar function with multiple variables, you can have a parameter space that is not 2D. With 3 parameters, i.e. two input and one output feature, the fitting function would not be a line, but would look like a plane:\n",
    "\n",
    "<img src=\"./images/new_LinRegresChart.png\" width=\"600\">\n",
    "\n",
    "When you have more than one input variable, each data point can be seen as a feature vector $x_i$, composed of $x_1, x_2, \\ldots , x_m$ , where $m$ is the total number of features (columns). For multiple regression, each data point can contain two or more features of the input. To represent all of the input data along with the vector of output values we set up a input matrix *X* and an output vector *y*. \n",
    "\n",
    "you can write this in general terms, as you saw earlier:\n",
    " \n",
    "> $\\boldsymbol{X} \\beta \\approx y$\n",
    "\n",
    "\n",
    "Where *X* are the input feature values, $\\beta$ represents the coefficients and *y* is the output (value to be predicted). In a simple least-squares linear regression model you are looking for a vector $\\beta$ so that the product $X \\beta$ most closely approximates the outcome vector y.\n",
    "\n",
    "For each value of input features $x_i$, we can compute a predicted outcome value as:\n",
    "\n",
    "observed data $\\rightarrow$ $y = b_0+b_1x_1+b_2x_2+ \\ldots + b_px_p+ \\epsilon $\n",
    "\n",
    "predicted data $\\rightarrow$ $\\hat y = \\hat b_0+\\hat b_1x_1+\\hat b_2x_2+ \\ldots + \\hat b_px_p $\n",
    "\n",
    "error $\\rightarrow$ $\\epsilon = y - \\hat y $\n",
    "\n",
    "Just like before,  the formula to compute the beta vector remains:\n",
    "\n",
    "$ \\large b= (\\boldsymbol{X}^T\\boldsymbol{X})^{-1}\\boldsymbol{X}^T y $\n",
    "\n",
    "\n",
    "So you see that the general solution involves taking a matrix transpose, the inverse, and dot multiplications on the lines of solving a linear system of equations. \n",
    "\n",
    "In the next lab, you'll use a simple dataset and with the above formulation for multivariate regression, you'll try to fit a model to the data and see how well it performs. \n",
    "\n",
    "## Further reading\n",
    "\n",
    "You're strongly advised to visit the following links to develop a strong mathematical and geometrical intuition around how least squares work. These documents will provide you with a visual intuition as well as an in-depth mathematical formulation for above equations along with their proofs. \n",
    "\n",
    "* [Quora: Why do we need an extra column of ones in regression](https://www.quora.com/Why-do-we-add-an-extra-column-in-1-matrix-to-solve-normal-equation-in-linear-regression)\n",
    "\n",
    "* [An excellent visual demonstration of oridnary least squares](http://setosa.io/ev/ordinary-least-squares-regression/)\n",
    "\n",
    "* [Simple Regression in Matrix format](https://www.stat.cmu.edu/~cshalizi/mreg/15/lectures/13/lecture-13.pdf)\n",
    "\n",
    "## Summary\n",
    "\n",
    "In this lesson, you had a gentle introduction to how we can use linear algebra to solve regression problems. You saw a toy example in the case of simple linear regression, relating days to number of sales and calculated a function that approximates the linear mapping.\n",
    "\n",
    "You also learned about how linear regression works in the context of multiple input variables and linear algebra. In the next lab, you'll use these equations to solve a real world problem. "
   ]
  }
 ],
 "metadata": {
  "kernelspec": {
   "display_name": "Python 3",
   "language": "python",
   "name": "python3"
  },
  "language_info": {
   "codemirror_mode": {
    "name": "ipython",
    "version": 3
   },
   "file_extension": ".py",
   "mimetype": "text/x-python",
   "name": "python",
   "nbconvert_exporter": "python",
   "pygments_lexer": "ipython3",
   "version": "3.8.5"
  },
  "latex_envs": {
   "LaTeX_envs_menu_present": true,
   "autoclose": false,
   "autocomplete": true,
   "bibliofile": "biblio.bib",
   "cite_by": "apalike",
   "current_citInitial": 1,
   "eqLabelWithNumbers": true,
   "eqNumInitial": 1,
   "hotkeys": {
    "equation": "Ctrl-E",
    "itemize": "Ctrl-I"
   },
   "labels_anchors": false,
   "latex_user_defs": false,
   "report_style_numbering": false,
   "user_envs_cfg": false
  },
  "toc": {
   "base_numbering": 1,
   "nav_menu": {},
   "number_sections": true,
   "sideBar": true,
   "skip_h1_title": false,
   "title_cell": "Table of Contents",
   "title_sidebar": "Contents",
   "toc_cell": false,
   "toc_position": {},
   "toc_section_display": true,
   "toc_window_display": false
  },
  "varInspector": {
   "cols": {
    "lenName": 16,
    "lenType": 16,
    "lenVar": 40
   },
   "kernels_config": {
    "python": {
     "delete_cmd_postfix": "",
     "delete_cmd_prefix": "del ",
     "library": "var_list.py",
     "varRefreshCmd": "print(var_dic_list())"
    },
    "r": {
     "delete_cmd_postfix": ") ",
     "delete_cmd_prefix": "rm(",
     "library": "var_list.r",
     "varRefreshCmd": "cat(var_dic_list()) "
    }
   },
   "types_to_exclude": [
    "module",
    "function",
    "builtin_function_or_method",
    "instance",
    "_Feature"
   ],
   "window_display": false
  }
 },
 "nbformat": 4,
 "nbformat_minor": 2
}
